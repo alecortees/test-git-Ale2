{
 "cells": [
  {
   "cell_type": "markdown",
   "metadata": {},
   "source": [
    "### <font color = blue>Primer examen parcial </font>"
   ]
  },
  {
   "cell_type": "markdown",
   "metadata": {},
   "source": [
    "## <font color= #8A0829> Simulación matemática.</font>\n",
    "- <Strong> Lázaro Alonso </Strong>\n",
    "- <Strong> Año </Strong>: 2017\n",
    "- <Strong> Email: </Strong>  <font color=\"blue\"> `alonsosilva@iteso.mx, lazarus.alon@gmail.com` </font>\n",
    "___\n",
    "#### Estudiante: "
   ]
  },
  {
   "cell_type": "markdown",
   "metadata": {},
   "source": [
    "### Indicaciones:\n",
    "- Todos  aquellos cuya inicial de su primer apellido este entre la *A* y la *L* tienen que hacer la **Actividad 1.1** del **problema 1. **\n",
    "- Todos  aquellos cuya inicial de su primer primer apellido este entre la *M* y la *Z* tienen que hacer la **Actividad 1.2** del **problema 1. **\n",
    "- Todos  aquellos cuya inicial de su primer apellido este entre la *M* y la *Z* tienen que hacer el **problema 2. **\n",
    "- Todos  aquellos cuya inicial de su primer apellido este entre la *A* y la *L* tienen que hacer el **problema 3. **"
   ]
  },
  {
   "cell_type": "markdown",
   "metadata": {},
   "source": [
    "<font color = red>**El objetivo final es que logren juntar 60 puntos. Es decir resolver 2 problemas por completo. ** </font>"
   ]
  },
  {
   "cell_type": "markdown",
   "metadata": {},
   "source": [
    "### Problema 1. "
   ]
  },
  {
   "cell_type": "markdown",
   "metadata": {},
   "source": [
    "Considere un oscilador armónico simple(péndulo), cuya variación en $\\theta$ está dada por:"
   ]
  },
  {
   "cell_type": "markdown",
   "metadata": {},
   "source": [
    "\\begin{equation}\n",
    "\\theta(t) = \\theta(0) \\cos(\\omega_{0} t) + \\frac{\\dot{\\theta}(0)}{\\omega_{0}} \\sin(\\omega_{0} t)\n",
    "\\end{equation}"
   ]
  },
  {
   "cell_type": "markdown",
   "metadata": {},
   "source": [
    "Considere la siguiente función que calcula $\\theta$ en $t$. Para responder las siguientes actividades. "
   ]
  },
  {
   "cell_type": "code",
   "execution_count": 1,
   "metadata": {
    "collapsed": true
   },
   "outputs": [],
   "source": [
    "import numpy as np\n",
    "import matplotlib.pyplot as plt\n",
    "%matplotlib inline"
   ]
  },
  {
   "cell_type": "code",
   "execution_count": 2,
   "metadata": {
    "collapsed": true
   },
   "outputs": [],
   "source": [
    "def theta_t(theta_0, theta_0_dot, g, l, t):\n",
    "    omega_0 = np.sqrt(g/l)\n",
    "    return theta_0 * np.cos(omega_0 * t) + theta_0_dot * np.sin(omega_0 * t)/omega_0"
   ]
  },
  {
   "cell_type": "markdown",
   "metadata": {},
   "source": [
    "Ahora si gráficamos al péndulo en las coordenas $x,y$, se obtiene algo similar a lo siguiente: "
   ]
  },
  {
   "cell_type": "code",
   "execution_count": 3,
   "metadata": {
    "collapsed": true
   },
   "outputs": [],
   "source": [
    "t = np.linspace(0,10)"
   ]
  },
  {
   "cell_type": "code",
   "execution_count": 4,
   "metadata": {},
   "outputs": [
    {
     "data": {
      "image/png": "[encoded data removed]",
      "text/plain": [
       "<matplotlib.figure.Figure at 0x10a783208>"
      ]
     },
     "metadata": {},
     "output_type": "display_data"
    }
   ],
   "source": [
    "fig = plt.figure(figsize = (5,5))\n",
    "ax = fig.add_subplot(1, 1, 1)\n",
    "x = 2 * np.sin(theta_t(.4, .6, 9.8, 2, t))\n",
    "y =  - 2 * np.cos(theta_t(.4, .6, 9.8, 2, t))\n",
    "ax.plot(x, y, 'ko', ms = 1.5)\n",
    "ax.plot([0], [0], 'rD')\n",
    "ax.set_xlim(xmin = -2.2, xmax = 2.2)\n",
    "ax.set_ylim(ymin = -2.2, ymax = .2)\n",
    "plt.show()"
   ]
  },
  {
   "cell_type": "markdown",
   "metadata": {},
   "source": [
    "**Actividad 1.1 **"
   ]
  },
  {
   "cell_type": "markdown",
   "metadata": {
    "collapsed": true
   },
   "source": [
    "# Respuesta\n",
    "a) •Modificar el programa anterior para que el pédulo describa una trayectoria completamente circular. (10 puntos)\n"
   ]
  },
  {
   "cell_type": "code",
   "execution_count": 30,
   "metadata": {
    "collapsed": true
   },
   "outputs": [],
   "source": [
    "import numpy as np\n",
    "import matplotlib.pyplot as plt\n",
    "%matplotlib inline"
   ]
  },
  {
   "cell_type": "code",
   "execution_count": 37,
   "metadata": {},
   "outputs": [
    {
     "data": {
      "image/png": "[encoded data removed]",
      "text/plain": [
       "<matplotlib.figure.Figure at 0x1f57e7b65c0>"
      ]
     },
     "metadata": {},
     "output_type": "display_data"
    }
   ],
   "source": [
    "def theta_t(theta_0, theta_0_dot, grav, long, time):\n",
    "    omega_0 = np.sqrt(grav/long)\n",
    "    return theta_0 * np.cos(omega_0 * time) + theta_0_dot * np.sin(omega_0 * time)/omega_0\n",
    "time = np.linspace(0,10)\n",
    "fig = plt.figure(figsize = (5,5))\n",
    "ax = fig.add_subplot(1, 1, 1)\n",
    "x = 2 * np.sin(theta_t(.4, 25, 9.8, 2, t))\n",
    "y =  - 2 * np.cos(theta_t(.4, 25, 9.8, 2, t))\n",
    "ax.plot(x, y, 'rD', ms = 1.5)\n",
    "ax.plot([0], [0], 'ko')\n",
    "ax.set_xlim(xmin = -5, xmax = 5)\n",
    "ax.set_ylim(ymin = -5, ymax = 5)\n",
    "plt.show()"
   ]
  },
  {
   "cell_type": "markdown",
   "metadata": {},
   "source": [
    "b) •Indicar en el caso anterior con código de colores, los momentos en que el péndulo se encuetra por arriba del cero en y \n",
    "y cuando se encuentra por debajo. (10 puntos)"
   ]
  },
  {
   "cell_type": "code",
   "execution_count": 45,
   "metadata": {},
   "outputs": [
    {
     "data": {
      "text/plain": [
       "array([-1.84212199, -1.09227831,  1.90716063, -0.2444032 ,  0.21751074,\n",
       "        1.15704496,  0.69846184, -1.61190796, -1.41105595,  1.97124629,\n",
       "       -0.32259768,  0.34626998,  0.88858591,  1.08492591, -1.29461264,\n",
       "       -1.66790968,  1.99858497, -0.39092994,  0.48255657,  0.59160661,\n",
       "        1.42317203, -0.90786883, -1.85439934,  1.991812  , -0.44946367,\n",
       "        0.62524767,  0.27258686,  1.69559398, -0.47302942, -1.96556861,\n",
       "        1.95412977, -0.49830028,  0.77292643, -0.06054532,  1.88728247,\n",
       "       -0.01389667, -1.99990643,  1.88913143, -0.53755805,  0.92385673,\n",
       "       -0.3985557 ,  1.98697358,  0.44467502, -1.95914262,  1.80063874,\n",
       "       -0.56735466,  1.07596464, -0.73112881,  1.98783882,  0.87821145])"
      ]
     },
     "execution_count": 45,
     "metadata": {},
     "output_type": "execute_result"
    }
   ],
   "source": [
    "y =  - 2 * np.cos(theta_t(.4, 25, 9.8, 2, t))\n",
    "y"
   ]
  },
  {
   "cell_type": "code",
   "execution_count": 46,
   "metadata": {},
   "outputs": [
    {
     "data": {
      "text/plain": [
       "(array([ 0,  1,  3,  7,  8, 10, 14, 15, 17, 21, 22, 24, 28, 29, 31, 33, 35,\n",
       "        36, 38, 40, 43, 45, 47], dtype=int64),)"
      ]
     },
     "execution_count": 46,
     "metadata": {},
     "output_type": "execute_result"
    }
   ],
   "source": [
    "y = np.array(- 2 * np.cos(theta_t(.4, 25, 9.8, 2, t)))\n",
    "np.where(y<0)"
   ]
  },
  {
   "cell_type": "code",
   "execution_count": 47,
   "metadata": {},
   "outputs": [
    {
     "data": {
      "text/plain": [
       "array([ 1.90716063,  0.21751074,  1.15704496,  0.69846184,  1.97124629,\n",
       "        0.34626998,  0.88858591,  1.08492591,  1.99858497,  0.48255657,\n",
       "        0.59160661,  1.42317203,  1.991812  ,  0.62524767,  0.27258686,\n",
       "        1.69559398,  1.95412977,  0.77292643,  1.88728247,  1.88913143,\n",
       "        0.92385673,  1.98697358,  0.44467502,  1.80063874,  1.07596464,\n",
       "        1.98783882,  0.87821145])"
      ]
     },
     "execution_count": 47,
     "metadata": {},
     "output_type": "execute_result"
    }
   ],
   "source": [
    "y[np.where(y>0)]"
   ]
  },
  {
   "cell_type": "code",
   "execution_count": 48,
   "metadata": {},
   "outputs": [
    {
     "data": {
      "text/plain": [
       "array([-1.84212199, -1.09227831, -0.2444032 , -1.61190796, -1.41105595,\n",
       "       -0.32259768, -1.29461264, -1.66790968, -0.39092994, -0.90786883,\n",
       "       -1.85439934, -0.44946367, -0.47302942, -1.96556861, -0.49830028,\n",
       "       -0.06054532, -0.01389667, -1.99990643, -0.53755805, -0.3985557 ,\n",
       "       -1.95914262, -0.56735466, -0.73112881])"
      ]
     },
     "execution_count": 48,
     "metadata": {},
     "output_type": "execute_result"
    }
   ],
   "source": [
    "y[np.where(y<0)]"
   ]
  },
  {
   "cell_type": "code",
   "execution_count": 49,
   "metadata": {
    "collapsed": true
   },
   "outputs": [],
   "source": [
    "upcero = y[np.where(y>0)]"
   ]
  },
  {
   "cell_type": "code",
   "execution_count": 50,
   "metadata": {
    "collapsed": true
   },
   "outputs": [],
   "source": [
    "downcero = y[np.where(y<0)]"
   ]
  },
  {
   "cell_type": "markdown",
   "metadata": {},
   "source": [
    "c)  •Considere un conjunto de péndulos, con las siguientes longitudes: \n",
    "$$ l = [0.5, 1, 2, 4, 8, 16]. $$\n",
    "Realice una representación similar a la anterior, pero ahora para todos los péndulos representados en la misma gráfica y cada uno con diferente color. Discutir resultados.**(10 puntos)** "
   ]
  },
  {
   "cell_type": "code",
   "execution_count": 32,
   "metadata": {},
   "outputs": [
    {
     "data": {
      "image/png": "[encoded data removed]",
      "text/plain": [
       "<matplotlib.figure.Figure at 0x1f57e8644a8>"
      ]
     },
     "metadata": {},
     "output_type": "display_data"
    }
   ],
   "source": [
    "long = [0.5, 1, 2, 4, 8, 16]\n",
    "def theta_t(theta_0, theta_0_dot, grav, long, time):\n",
    "    omega_0 = np.sqrt(grav/long)\n",
    "    return theta_0 * np.cos(omega_0 * t) + theta_0_dot * np.sin(omega_0 * time)/omega_0\n",
    "theta_0= .4\n",
    "theta_0_dot= 25\n",
    "grav = 9.8\n",
    "time = np.linspace(0,10)\n",
    "for indx, value in enumerate(long):\n",
    "    plt.plot( theta_t(theta_0, theta_0_dot, g , value, time), 'D')\n",
    "plt.show()"
   ]
  },
  {
   "cell_type": "code",
   "execution_count": 33,
   "metadata": {},
   "outputs": [
    {
     "data": {
      "image/png": "[encoded data removed]",
      "text/plain": [
       "<matplotlib.figure.Figure at 0x1f57e59a5f8>"
      ]
     },
     "metadata": {},
     "output_type": "display_data"
    }
   ],
   "source": [
    "for indx, value in enumerate(longitud):\n",
    "    plt.plot(x,y,'magenta')\n",
    "plt.show()"
   ]
  },
  {
   "cell_type": "markdown",
   "metadata": {},
   "source": [
    "### Problema 3.\n",
    "**Interés simple vs interés compuesto. **"
   ]
  },
  {
   "cell_type": "markdown",
   "metadata": {},
   "source": [
    "- Simple \n",
    "> Recuerden $C_k$ es la meta\n",
    "$$C_k=C_0(1+ki).$$"
   ]
  },
  {
   "cell_type": "markdown",
   "metadata": {},
   "source": [
    "- Compuesto\n",
    "> $$C_k=C_0(1+i)^k.$$"
   ]
  },
  {
   "cell_type": "markdown",
   "metadata": {},
   "source": [
    "** Actividad 3.1**\n",
    "- Realice un análisis comparativo del numero de periodos para llegar a la misma meta, considerenado el mismo interés $i$. Gráfique en la misma figura.  **(10 puntos)**"
   ]
  },
  {
   "cell_type": "code",
   "execution_count": 11,
   "metadata": {
    "collapsed": true
   },
   "outputs": [],
   "source": [
    "import matplotlib.pyplot as plt\n",
    "import numpy as np\n",
    "%matplotlib inline"
   ]
  },
  {
   "cell_type": "code",
   "execution_count": 12,
   "metadata": {
    "collapsed": true
   },
   "outputs": [],
   "source": [
    "# Respuesta \n",
    "def Isimple(c_k,c_0, i):\n",
    "    return int((c_k/c_0 -1)/i) +1\n"
   ]
  },
  {
   "cell_type": "code",
   "execution_count": 13,
   "metadata": {},
   "outputs": [
    {
     "data": {
      "text/plain": [
       "13"
      ]
     },
     "execution_count": 13,
     "metadata": {},
     "output_type": "execute_result"
    }
   ],
   "source": [
    "Isimple(11000,10000,.008)"
   ]
  },
  {
   "cell_type": "code",
   "execution_count": 14,
   "metadata": {
    "collapsed": true
   },
   "outputs": [],
   "source": [
    "def Icompuesto(c_k, c_0, i):\n",
    "    return int(np.log(c_k/c_0)/np.log(1 + i)) +1"
   ]
  },
  {
   "cell_type": "code",
   "execution_count": 15,
   "metadata": {},
   "outputs": [
    {
     "data": {
      "text/plain": [
       "12"
      ]
     },
     "execution_count": 15,
     "metadata": {},
     "output_type": "execute_result"
    }
   ],
   "source": [
    "Icompuesto(11000,10000,.008)"
   ]
  },
  {
   "cell_type": "markdown",
   "metadata": {},
   "source": [
    "•Considere diferentes escenarios de interés. Usted elija. (10 puntos)"
   ]
  },
  {
   "cell_type": "code",
   "execution_count": 43,
   "metadata": {},
   "outputs": [
    {
     "data": {
      "image/png": "[encoded data removed]",
      "text/plain": [
       "<matplotlib.figure.Figure at 0x1f57e982e48>"
      ]
     },
     "metadata": {},
     "output_type": "display_data"
    }
   ],
   "source": [
    "meta = 100000\n",
    "inte = np.arange(.05, .15, .01)\n",
    "\n",
    "for ints in inte:\n",
    "    plt.plot(Icompuesto(50000, 10000, ints), meta, 'o')\n",
    "plt.ylabel('Meta')    \n",
    "plt.xlabel('Meses')\n",
    "plt.show()"
   ]
  },
  {
   "cell_type": "markdown",
   "metadata": {},
   "source": [
    "- Discuta las ventajas o desventajas de los diferentes modelos. En el supuesto de que ustedes son el banco. **(10 puntos)**"
   ]
  },
  {
   "cell_type": "markdown",
   "metadata": {},
   "source": [
    "El interés simple es el interés devengado en un período y que no gana intereses en los periodos siguientes, independiente que se paguen o no. Únicamente sobre el capital inicial se procede a realizar la liquidación de los intereses sin contar con los intereses procedentes de una capitalización. La liquidación se hace sobre el capital no pagado.\n",
    "\n",
    "El interés compuesto es aquel que al final del período capitaliza los intereses causados en el período inmediatamente anterior. En el interés compuesto el capital cambia al final de cada período, debido a que los intereses se adicionan al capital para formar un nuevo capital sobre el que se calculan los intereses.\n",
    "\n",
    "Si yo fuera el banco \n"
   ]
  }
 ],
 "metadata": {
  "kernelspec": {
   "display_name": "Python 3",
   "language": "python",
   "name": "python3"
  },
  "language_info": {
   "codemirror_mode": {
    "name": "ipython",
    "version": 3
   },
   "file_extension": ".py",
   "mimetype": "text/x-python",
   "name": "python",
   "nbconvert_exporter": "python",
   "pygments_lexer": "ipython3",
   "version": "3.6.1"
  }
 },
 "nbformat": 4,
 "nbformat_minor": 1
}
